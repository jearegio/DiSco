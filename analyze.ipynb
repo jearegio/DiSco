{
 "cells": [
  {
   "cell_type": "code",
   "execution_count": null,
   "metadata": {},
   "outputs": [],
   "source": [
    "import pandas as pd\n",
    "from matplotlib import pyplot as plt\n",
    "import torch\n",
    "import imageio\n",
    "import os\n",
    "from IPython.display import display, Image"
   ]
  },
  {
   "cell_type": "code",
   "execution_count": null,
   "metadata": {},
   "outputs": [],
   "source": [
    "timestamp = '04-15-2024_19-01-31'"
   ]
  },
  {
   "cell_type": "code",
   "execution_count": null,
   "metadata": {},
   "outputs": [],
   "source": [
    "output_dir = f'src/disco/disco_outputs/{timestamp}'\n",
    "analysis_dir = f'analysis/{timestamp}'\n",
    "os.makedirs(analysis_dir, exist_ok=True)"
   ]
  },
  {
   "cell_type": "code",
   "execution_count": null,
   "metadata": {},
   "outputs": [],
   "source": [
    "means = torch.tensor([torch.load(f'{output_dir}/cycle_{i}/scores.pt').mean() for i in range(1, 13)])\n",
    "stds = torch.tensor([torch.load(f'{output_dir}/cycle_{i}/scores.pt').std() for i in range(1, 13)])"
   ]
  },
  {
   "cell_type": "code",
   "execution_count": null,
   "metadata": {},
   "outputs": [],
   "source": [
    "plt.figure(dpi=200)\n",
    "plt.plot(torch.arange(len(means)), means, color='#B5454C')\n",
    "plt.title(timestamp)\n",
    "plt.xlabel('DiSco cycles')\n",
    "plt.ylabel('Energy')\n",
    "plt.fill_between(torch.arange(len(means)), means-stds, means+stds, color='#FFBCBC')\n",
    "plt.savefig(f'{analysis_dir}/plot.png')"
   ]
  },
  {
   "cell_type": "code",
   "execution_count": null,
   "metadata": {},
   "outputs": [],
   "source": [
    "os.makedirs(f'{analysis_dir}/gif', exist_ok=True)\n",
    "for i in range(1, 13):\n",
    "    scores = torch.load(f'{output_dir}/cycle_{i}/scores.pt')\n",
    "    plt.hist(scores, range=(-900, -300), bins=50)\n",
    "    plt.ylim(0, 100)\n",
    "    plt.xlabel('Energy')\n",
    "    plt.ylabel('Frequency')\n",
    "    plt.title(f'DiSco cycle = {i}')\n",
    "    plt.savefig(f'{analysis_dir}/gif/scores_{i}.png')\n",
    "    plt.close()"
   ]
  },
  {
   "cell_type": "code",
   "execution_count": null,
   "metadata": {},
   "outputs": [],
   "source": [
    "images = []\n",
    "for i in range(1, 13):\n",
    "    filename = f'{analysis_dir}/gif/scores_{i}.png'\n",
    "    images.append(imageio.imread(filename))\n",
    "imageio.mimsave(f'{analysis_dir}/gif/movie.gif', images, fps=7.5, loop=0)"
   ]
  },
  {
   "cell_type": "code",
   "execution_count": null,
   "metadata": {},
   "outputs": [],
   "source": [
    "display(Image(filename=f'{analysis_dir}/gif/movie.gif'))"
   ]
  }
 ],
 "metadata": {
  "kernelspec": {
   "display_name": ".venv",
   "language": "python",
   "name": "python3"
  },
  "language_info": {
   "codemirror_mode": {
    "name": "ipython",
    "version": 3
   },
   "file_extension": ".py",
   "mimetype": "text/x-python",
   "name": "python",
   "nbconvert_exporter": "python",
   "pygments_lexer": "ipython3",
   "version": "3.11.5"
  }
 },
 "nbformat": 4,
 "nbformat_minor": 2
}
