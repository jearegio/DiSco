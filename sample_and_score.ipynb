{
 "cells": [
  {
   "cell_type": "code",
   "execution_count": 1,
   "metadata": {},
   "outputs": [],
   "source": [
    "%matplotlib inline\n",
    "from eval_sample import disco_sample\n",
    "from pyscf import gto, dft\n",
    "from concurrent import futures\n",
    "from functools import partial\n",
    "from matplotlib import pyplot as plt\n",
    "import pandas as pd\n",
    "from datetime import datetime"
   ]
  },
  {
   "cell_type": "code",
   "execution_count": 2,
   "metadata": {},
   "outputs": [],
   "source": [
    "def calc_energy(mol, xc):\n",
    "    mf = dft.RKS(mol)\n",
    "    mf.xc = xc\n",
    "    energy = mf.kernel()\n",
    "\n",
    "    return energy"
   ]
  },
  {
   "cell_type": "code",
   "execution_count": 3,
   "metadata": {},
   "outputs": [],
   "source": [
    "def sample_and_calculate(n_nodes, n_tries, basis, xc):\n",
    "    now = datetime.now()\n",
    "    timestamp = now.strftime(\"%m-%d-%Y_%H-%M-%S\")\n",
    "    output_dir = f'outputs/disco/{timestamp}'\n",
    "\n",
    "    stable_filenames, unstable_filenames = disco_sample(n_nodes=n_nodes, n_tries=n_tries, output_dir=output_dir)\n",
    "\n",
    "    mols = [gto.M(atom=filename, basis=basis) for filename in stable_filenames]\n",
    "    energies = [calc_energy(mol, xc=xc) for mol in mols]\n",
    "\n",
    "    df = pd.DataFrame({'filenames': stable_filenames, 'energy': energies})\n",
    "    df.to_pickle(f'{output_dir}/df.pkl')"
   ]
  },
  {
   "cell_type": "code",
   "execution_count": 4,
   "metadata": {},
   "outputs": [],
   "source": [
    "n_nodes = 10\n",
    "n_tries = 1000\n",
    "basis = 'sto-3g'\n",
    "xc = 'b3lyp'"
   ]
  },
  {
   "cell_type": "code",
   "execution_count": 5,
   "metadata": {},
   "outputs": [
    {
     "name": "stdout",
     "output_type": "stream",
     "text": [
      "Namespace(exp_name='polynomial_2_final_0', model='egnn_dynamics', probabilistic_model='diffusion', diffusion_steps=1000, diffusion_noise_schedule='polynomial_2', diffusion_noise_precision=1e-05, diffusion_loss_type='l2', n_epochs=3000, batch_size=64, lr=0.0001, brute_force=False, actnorm=True, break_train_epoch=False, dp=True, condition_time=True, clip_grad=True, trace='hutch', n_layers=9, inv_sublayers=1, nf=256, tanh=True, attention=True, norm_constant=1, sin_embedding=False, ode_regularization=0.001, dataset='qm9', datadir='qm9/temp', filter_n_atoms=None, dequantization='argmax_variational', n_report_steps=1, wandb_usr=None, no_wandb=False, online=True, no_cuda=False, save_model=True, generate_epochs=1, num_workers=0, test_epochs=20, data_augmentation=False, conditioning=[], resume=None, start_epoch=0, ema_decay=0.9999, augment_noise=0, n_stability_samples=1000, normalize_factors=[1, 4, 10], remove_h=False, include_charges=True, visualize_every_batch=100000000.0, normalization_factor=1, cuda=True, context_node_nf=0, current_epoch=1001, aggregation_method='sum', device=device(type='cuda'))\n",
      "Entropy of n_nodes: H[N] -2.475700616836548\n",
      "alphas2 [9.99990000e-01 9.99988000e-01 9.99982000e-01 ... 2.59676966e-05\n",
      " 1.39959211e-05 1.00039959e-05]\n",
      "gamma [-11.51291546 -11.33059532 -10.92513058 ...  10.55863126  11.17673063\n",
      "  11.51251595]\n"
     ]
    },
    {
     "name": "stderr",
     "output_type": "stream",
     "text": [
      "/home/jose/DiSco/.venv/lib64/python3.11/site-packages/pyscf/dft/libxc.py:1102: UserWarning: Since PySCF-2.3, B3LYP (and B3P86) are changed to the VWN-RPA variant, corresponding to the original definition by Stephens et al. (issue 1480) and the same as the B3LYP functional in Gaussian. To restore the VWN5 definition, you can put the setting \"B3LYP_WITH_VWN5 = True\" in pyscf_conf.py\n",
      "  warnings.warn('Since PySCF-2.3, B3LYP (and B3P86) are changed to the VWN-RPA variant, '\n"
     ]
    },
    {
     "name": "stdout",
     "output_type": "stream",
     "text": [
      "converged SCF energy = -468.218212462239\n",
      "converged SCF energy = -464.155011042189\n",
      "converged SCF energy = -313.273743734234\n",
      "converged SCF energy = -419.931275757478\n",
      "converged SCF energy = -317.047621133501\n"
     ]
    }
   ],
   "source": [
    "sample_and_calculate(n_nodes=n_nodes, n_tries=n_tries, basis=basis, xc=xc)"
   ]
  },
  {
   "cell_type": "code",
   "execution_count": null,
   "metadata": {},
   "outputs": [],
   "source": []
  }
 ],
 "metadata": {
  "kernelspec": {
   "display_name": ".venv",
   "language": "python",
   "name": "python3"
  },
  "language_info": {
   "codemirror_mode": {
    "name": "ipython",
    "version": 3
   },
   "file_extension": ".py",
   "mimetype": "text/x-python",
   "name": "python",
   "nbconvert_exporter": "python",
   "pygments_lexer": "ipython3",
   "version": "3.11.5"
  }
 },
 "nbformat": 4,
 "nbformat_minor": 2
}
